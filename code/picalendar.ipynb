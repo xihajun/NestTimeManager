{
 "cells": [
  {
   "cell_type": "markdown",
   "metadata": {},
   "source": [
    "# Introduction"
   ]
  },
  {
   "cell_type": "markdown",
   "metadata": {},
   "source": [
    "This project will help you generate the ics or google calendar. It seems that you will have to create an API if you want to use google calendar API generator. So I will firstly start with ical."
   ]
  },
  {
   "cell_type": "markdown",
   "metadata": {},
   "source": [
    "## import icalendar package"
   ]
  },
  {
   "cell_type": "code",
   "execution_count": 1,
   "metadata": {},
   "outputs": [],
   "source": [
    "from icalendar import Calendar, Event\n",
    "from datetime import datetime\n",
    "from pytz import UTC # timezone\n",
    "from pytz import timezone\n",
    "from datetime import datetime, timedelta\n",
    "import pickle"
   ]
  },
  {
   "cell_type": "code",
   "execution_count": 2,
   "metadata": {},
   "outputs": [
    {
     "data": {
      "text/plain": [
       "<DstTzInfo 'Europe/London' LMT-1 day, 23:59:00 STD>"
      ]
     },
     "execution_count": 2,
     "metadata": {},
     "output_type": "execute_result"
    }
   ],
   "source": [
    "timezone('Europe/London')"
   ]
  },
  {
   "cell_type": "code",
   "execution_count": 6,
   "metadata": {},
   "outputs": [],
   "source": [
    "# An example of read .ics file\n",
    "\n",
    "# g = open(\"/Users/xihajun/Downloads/工作.ics\",'rb')\n",
    "g = open(\"../data/20220101.ics\",'rb')\n",
    "gcal = Calendar.from_ical(g.read())\n",
    "events = []\n",
    "for component in gcal.walk():\n",
    "    if component.name == \"VEVENT\":\n",
    "#         print(component.get('summary'))\n",
    "#         print(component.get('dtstart').dt)\n",
    "#         print(component.get('dtend').dt)\n",
    "#         print(component.get('dtstamp').dt)\n",
    "        event_start = component.get('dtstart').dt#.replace(tzinfo=timezone('Europe/London'))\n",
    "        event_end = component.get('dtend').dt#.replace(tzinfo=timezone('Europe/London'))\n",
    "        try:\n",
    "            freq = component.get('RRULE').get('FREQ')[0]\n",
    "        except:\n",
    "            freq = 0\n",
    "        if freq == 'DAILY':\n",
    "            for i in range(0,20):\n",
    "                events.append((event_start+timedelta(days=i),event_end+timedelta(days=i)))\n",
    "        else:\n",
    "            events.append((event_start,event_end))\n",
    "g.close()"
   ]
  },
  {
   "cell_type": "code",
   "execution_count": 7,
   "metadata": {},
   "outputs": [
    {
     "data": {
      "text/plain": [
       "datetime.datetime(2022, 1, 1, 13, 30, tzinfo=<DstTzInfo 'Europe/London' GMT0:00:00 STD>)"
      ]
     },
     "execution_count": 7,
     "metadata": {},
     "output_type": "execute_result"
    }
   ],
   "source": [
    "event_start"
   ]
  },
  {
   "cell_type": "code",
   "execution_count": 8,
   "metadata": {},
   "outputs": [],
   "source": [
    "with open(\"../data/component.pl\",\"rb\") as f:\n",
    "    component = pickle.load(f)"
   ]
  },
  {
   "cell_type": "code",
   "execution_count": 18,
   "metadata": {},
   "outputs": [
    {
     "data": {
      "text/plain": [
       "True"
      ]
     },
     "execution_count": 18,
     "metadata": {},
     "output_type": "execute_result"
    }
   ],
   "source": [
    "# RRULE controls the freq\n",
    "component.get('RRULE').get('FREQ')[0] == 'DAILY'"
   ]
  },
  {
   "cell_type": "markdown",
   "metadata": {},
   "source": [
    "The task of this project would be finding some slots that are available for me given a pre-scheduled calendar. Within those slots, generate the time for me, given the courses I want to do and the number of hours I want to spend per week. (weekly initially, I might add functions to generate schedule for every two weeks or three weeks later)"
   ]
  },
  {
   "cell_type": "code",
   "execution_count": 10,
   "metadata": {},
   "outputs": [],
   "source": [
    "import pickle\n",
    "with open(\"../data/component.pl\",\"wb\") as f:\n",
    "    pickle.dump(component,f)"
   ]
  },
  {
   "cell_type": "code",
   "execution_count": null,
   "metadata": {},
   "outputs": [],
   "source": []
  },
  {
   "cell_type": "code",
   "execution_count": 46,
   "metadata": {},
   "outputs": [],
   "source": [
    "# code from stackoverflow: https://stackoverflow.com/questions/10702224/python-algorithm-find-time-slots\n",
    "from datetime import datetime, timedelta\n",
    "from pytz import timezone\n",
    "\n",
    "\n",
    "# appointments = [(datetime(2012, 5, 22, 10), datetime(2012, 5, 22, 10, 30)),\n",
    "#                 (datetime(2012, 5, 22, 12), datetime(2012, 5, 22, 13)),\n",
    "#                 (datetime(2012, 5, 22, 15, 30), datetime(2012, 5, 22, 17, 10))]\n",
    "\n",
    "app = [(component.get('dtstart').dt,component.get('dtend').dt)]\n",
    "start = datetime(2021, 2, 15, 9).replace(tzinfo=timezone('Europe/London'))\n",
    "end = datetime(2021, 2, 15, 18).replace(tzinfo=timezone('Europe/London'))\n",
    "hours = (start, end)\n",
    "\n",
    "def get_slots(hours, events, duration=timedelta(hours=1)):\n",
    "    \n",
    "    # remove datatime.data events\n",
    "    for i in events:\n",
    "        # events[0][0] is datatime.datatime\n",
    "        if type(i[0]) != type(events[0][0]):\n",
    "            events.remove(i)\n",
    "            \n",
    "    today_event = [i for i in events if (i[0]>hours[0] and i[0]<hours[1])]\n",
    "    slots = sorted([(hours[0], hours[0])] + today_event + [(hours[1], hours[1])])\n",
    "    slots = sort_slots(slots)\n",
    "#     print(slots)\n",
    "    slots_obj = []\n",
    "    \n",
    "    for start, end in ((slots[i][1], slots[i+1][0]) for i in range(len(slots)-1)):\n",
    "#         assert start <= end, \"Cannot attend all appointments\"\n",
    "#         import pdb;pdb.set_trace()\n",
    "        print(start + duration <= end)\n",
    "        print(start + duration ,end)\n",
    "        while start + duration <= end:\n",
    "#             print(\"{:%H:%M} - {:%H:%M}\".format(start, start + duration))\n",
    "            slots_obj.append((start,start + duration))\n",
    "            start += duration\n",
    "\n",
    "    return slots_obj"
   ]
  },
  {
   "cell_type": "code",
   "execution_count": 47,
   "metadata": {},
   "outputs": [],
   "source": [
    "def sort_slots(slots):\n",
    "    for i in range(len(slots)-1):\n",
    "        if slots[i][1]>slots[i+1][1]:\n",
    "            end = slots[i+1][1]\n",
    "            start = slots[i][0]\n",
    "            slots[i+1] = (start,end)\n",
    "        if slots[i+1][1]<slots[i][1]:\n",
    "            end = slots[i][1]\n",
    "            slots[i+1] = (start,end)\n",
    "    return slots"
   ]
  },
  {
   "cell_type": "code",
   "execution_count": 63,
   "metadata": {},
   "outputs": [
    {
     "name": "stdout",
     "output_type": "stream",
     "text": [
      "False\n",
      "2022-01-01 10:00:00-00:01 2022-01-01 09:30:00+00:00\n",
      "False\n",
      "2022-01-01 11:30:00+00:00 2022-01-01 11:00:00+00:00\n",
      "False\n",
      "2022-01-01 13:00:00+00:00 2022-01-01 12:15:00+00:00\n",
      "False\n",
      "2022-01-01 14:15:00+00:00 2022-01-01 13:30:00+00:00\n",
      "True\n",
      "2022-01-01 15:30:00+00:00 2022-01-01 18:00:00-00:01\n",
      "True\n",
      "2022-01-02 10:00:00-00:01 2022-01-02 18:00:00-00:01\n",
      "True\n",
      "2022-01-03 10:00:00-00:01 2022-01-03 18:00:00-00:01\n",
      "True\n",
      "2022-01-04 10:00:00-00:01 2022-01-04 18:00:00-00:01\n",
      "True\n",
      "2022-01-05 10:00:00-00:01 2022-01-05 18:00:00-00:01\n",
      "True\n",
      "2022-01-06 10:00:00-00:01 2022-01-06 18:00:00-00:01\n"
     ]
    }
   ],
   "source": [
    "start = datetime(2022, 1, 1, 9).replace(tzinfo=timezone('Europe/London'))\n",
    "end = datetime(2022, 1, 1, 18).replace(tzinfo=timezone('Europe/London'))\n",
    "hours = (start, end)\n",
    "\n",
    "freetime = []\n",
    "for i in range(0,6):\n",
    "    hours = (start+timedelta(days=i), end+timedelta(days=i))\n",
    "    free = get_slots(hours,events)\n",
    "    freetime.append(free)"
   ]
  },
  {
   "cell_type": "code",
   "execution_count": 64,
   "metadata": {},
   "outputs": [],
   "source": [
    "freetime_list = set([item for sublist in freetime for item in sublist])"
   ]
  },
  {
   "cell_type": "code",
   "execution_count": 65,
   "metadata": {
    "scrolled": true
   },
   "outputs": [
    {
     "name": "stdout",
     "output_type": "stream",
     "text": [
      "I have 48 hours free this weekday\n"
     ]
    }
   ],
   "source": [
    "print(\"I have \"+str(len(freetime_list))+\" hours free this weekday\")"
   ]
  },
  {
   "cell_type": "code",
   "execution_count": 66,
   "metadata": {},
   "outputs": [],
   "source": [
    "import random\n",
    "schedule = set(random.sample(freetime_list,10))\n",
    "rest = freetime_list-schedule"
   ]
  },
  {
   "cell_type": "code",
   "execution_count": 67,
   "metadata": {},
   "outputs": [
    {
     "name": "stdout",
     "output_type": "stream",
     "text": [
      "01/05/2022, 17:00:00\n",
      "01/06/2022, 12:00:00\n",
      "01/06/2022, 09:00:00\n",
      "01/03/2022, 12:00:00\n",
      "01/03/2022, 17:00:00\n",
      "01/04/2022, 16:00:00\n",
      "01/06/2022, 11:00:00\n",
      "01/05/2022, 15:00:00\n",
      "01/01/2022, 16:30:00\n",
      "01/06/2022, 17:00:00\n"
     ]
    },
    {
     "data": {
      "text/plain": [
       "[None, None, None, None, None, None, None, None, None, None]"
      ]
     },
     "execution_count": 67,
     "metadata": {},
     "output_type": "execute_result"
    }
   ],
   "source": [
    "[print(i[0].strftime(\"%m/%d/%Y, %H:%M:%S\")) for i in schedule]"
   ]
  },
  {
   "cell_type": "markdown",
   "metadata": {},
   "source": [
    "Yeah! It seems that my script works!! Happy happy joy joy!\n",
    "\n",
    "Now I have to give how many hours I would like to spend during this week for given projects or courses.\n",
    "(eg. cobra: 20 hours, FROG: 10 hours).\n",
    "\n",
    "> python: which module do you want to do?\n",
    "cobra\n",
    "> python: how many hours do you want to spend on?\n",
    "10\n",
    "(25 hours left)\n",
    "> continue or end (c/e)\n"
   ]
  },
  {
   "cell_type": "code",
   "execution_count": 68,
   "metadata": {},
   "outputs": [
    {
     "name": "stdout",
     "output_type": "stream",
     "text": [
      "which module do you want to do?PCA\n",
      "how many hours do you want to spend on?1\n",
      "You have 47 hours free this weekday\n",
      "continue or end (c/e)c\n",
      "which module do you want to do?MLE\n",
      "how many hours do you want to spend on?1\n",
      "You have 46 hours free this weekday\n",
      "continue or end (c/e)e\n"
     ]
    }
   ],
   "source": [
    "projects = {}\n",
    "while True:\n",
    "    project_name = input(\"which module do you want to do?\")\n",
    "    project_hours = input(\"how many hours do you want to spend on?\")\n",
    "    schedule = set(random.sample(freetime_list,int(project_hours)))\n",
    "    projects[project_name] = schedule\n",
    "    freetime_list = freetime_list-schedule\n",
    "    print(\"You have \"+str(len(freetime_list))+\" hours free this weekday\")\n",
    "    breakornot = input(\"continue or end (c/e)\")\n",
    "    if breakornot =='e':\n",
    "        break"
   ]
  },
  {
   "cell_type": "code",
   "execution_count": 69,
   "metadata": {},
   "outputs": [
    {
     "data": {
      "text/plain": [
       "{'PCA': {(datetime.datetime(2022, 1, 6, 9, 0, tzinfo=<DstTzInfo 'Europe/London' LMT-1 day, 23:59:00 STD>),\n",
       "   datetime.datetime(2022, 1, 6, 10, 0, tzinfo=<DstTzInfo 'Europe/London' LMT-1 day, 23:59:00 STD>))},\n",
       " 'MLE': {(datetime.datetime(2022, 1, 2, 14, 0, tzinfo=<DstTzInfo 'Europe/London' LMT-1 day, 23:59:00 STD>),\n",
       "   datetime.datetime(2022, 1, 2, 15, 0, tzinfo=<DstTzInfo 'Europe/London' LMT-1 day, 23:59:00 STD>))}}"
      ]
     },
     "execution_count": 69,
     "metadata": {},
     "output_type": "execute_result"
    }
   ],
   "source": [
    "projects"
   ]
  },
  {
   "cell_type": "markdown",
   "metadata": {},
   "source": [
    "I would also like to generate emacs script:\n",
    "\n",
    "```\n",
    "**** TODO autoencoder\n",
    "     SCHEDULED: <2021-02-15 Mon>\n",
    "     - [X] def sequence2matrix\n",
    "     - [ ] nerual network training\n",
    "```\n",
    "Here is the example of emacs script for todo and scheduling. I will just need to set the first two lines to show in emacs calendar."
   ]
  },
  {
   "cell_type": "markdown",
   "metadata": {},
   "source": [
    "# write to ics"
   ]
  },
  {
   "cell_type": "code",
   "execution_count": 70,
   "metadata": {},
   "outputs": [],
   "source": [
    "from icalendar import Calendar, Event\n",
    "from datetime import datetime\n",
    "from pytz import UTC # timezone\n",
    "\n",
    "cal = Calendar()\n",
    "cal.add('prodid', '-//My calendar product//mxm.dk//')\n",
    "cal.add('version', '2.0')\n",
    "\n",
    "k = 0\n",
    "for name in projects.keys():\n",
    "    for time in projects[name]:\n",
    "        event = Event()\n",
    "        event.add('summary', name)\n",
    "        event.add('dtstart', time[0])\n",
    "        event.add('dtend', time[1])\n",
    "#         event.add('dtstamp', datetime(2005,4,4,0,10,0,tzinfo=UTC))\n",
    "#         event_sk = start.strftime(\"%m/%d/%Y, %H:%M:%S\") + str(k)\n",
    "#         event['uid'] = hashlib.md5(event_sk.encode('utf-8')).hexdigest() + '@edu-ing.cn'\n",
    "#         event.add('priority', 5)\n",
    "        cal.add_component(event)\n",
    "\n",
    "f = open('../data/20220101_TODO.ics', 'wb')\n",
    "f.write(cal.to_ical())\n",
    "f.close()"
   ]
  },
  {
   "cell_type": "code",
   "execution_count": null,
   "metadata": {},
   "outputs": [],
   "source": []
  }
 ],
 "metadata": {
  "kernelspec": {
   "display_name": "Python 3",
   "language": "python",
   "name": "python3"
  },
  "language_info": {
   "codemirror_mode": {
    "name": "ipython",
    "version": 3
   },
   "file_extension": ".py",
   "mimetype": "text/x-python",
   "name": "python",
   "nbconvert_exporter": "python",
   "pygments_lexer": "ipython3",
   "version": "3.7.1"
  },
  "toc": {
   "base_numbering": 1,
   "nav_menu": {},
   "number_sections": true,
   "sideBar": true,
   "skip_h1_title": false,
   "title_cell": "Table of Contents",
   "title_sidebar": "Contents",
   "toc_cell": false,
   "toc_position": {},
   "toc_section_display": true,
   "toc_window_display": false
  }
 },
 "nbformat": 4,
 "nbformat_minor": 2
}
